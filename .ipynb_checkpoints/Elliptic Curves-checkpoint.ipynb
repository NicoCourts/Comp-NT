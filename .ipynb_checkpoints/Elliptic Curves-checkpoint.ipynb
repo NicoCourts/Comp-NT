{
 "cells": [
  {
   "cell_type": "markdown",
   "metadata": {},
   "source": [
    "# Elliptic Curves\n",
    "In this document I am going to play around with some implementations and computations involving elliptic curves.\n",
    "\n",
    "---\n",
    "As a guide I referred to [this](https://jeremykun.com/2014/02/24/elliptic-curves-as-python-objects/) guide to ellpitic curve operations in Python as well as [this](https://www.nayuki.io/page/elliptic-curve-point-addition-in-projective-coordinates) discussion and implementation of elliptic curves in projective coordinates."
   ]
  },
  {
   "cell_type": "code",
   "execution_count": 10,
   "metadata": {},
   "outputs": [],
   "source": [
    "class EllipticCurve:\n",
    "    \"\"\"\n",
    "    A class that represents an elliptic curve in P^2 in the form\n",
    "    y^2z = x^3 + axz^2 + bz^3 over a field k.\n",
    "    \"\"\"\n",
    "    def __init__(self, a, b, k):\n",
    "        # Check to make sure inputs make sense.\n",
    "        if not k.real and isinstance(a, ComplexNumber) and isinstance(b, ComplexNumber):\n",
    "            pass\n",
    "        elif k.char > 0 and isinstance(a, int) and isinstance(b, int):\n",
    "            pass\n",
    "        elif k.char == 0:\n",
    "            pass\n",
    "        else:\n",
    "            raise ValueError('Field must contain a and b.')\n",
    "        \n",
    "        self.a = a\n",
    "        self.b = b\n",
    "        self.field = k\n",
    "        self.modulus = k.char\n",
    "        \n",
    "        # Make sure the curve is not singular via the discriminant\n",
    "        if abs(a) > 0:\n",
    "            pass\n",
    "        elif abs(4*a**3 + 27*b**2) == 0:\n",
    "            raise ValueError('The curve is singular!')\n",
    "        \n",
    "    def __str__(self):\n",
    "        return \"Elliptic curve y^2z = x^3 + %sxz^2 + %sz^3 over %s.\" % (self.a, self.b, self.field)\n",
    "    \n",
    "    def __eq__(self, other):\n",
    "        # In general it is difficult to determine whether two curves are the same. For us, \n",
    "        # we just want to check whether they were instantiated with the same parameters.\n",
    "        return (self.a, self.b, self.field) == (other.a, other.b, other.field)\n",
    "    \n",
    "    def containsPoint(self, x=None, y=None, z=None, pt=None):\n",
    "        if pt != None:\n",
    "            x, y, z = pt.x, pt.y, pt.z\n",
    "        lhs = y*y*z\n",
    "        rhs = x*x*x + self.a * x*z*z + self.b * z*z*z\n",
    "        \n",
    "        if self.modulus > 0:\n",
    "            lhs = lhs % self.modulus\n",
    "            rhs = rhs % self.modulus\n",
    "            \n",
    "        return lhs == rhs"
   ]
  },
  {
   "cell_type": "markdown",
   "metadata": {},
   "source": [
    "## Fields and Points\n",
    "We want our curves to be able to be defined over different fields, so we should define some notion of them to include in the definition of each curve. \n",
    "\n",
    "We also define points in $\\mathbb{P}^2$ over any field."
   ]
  },
  {
   "cell_type": "code",
   "execution_count": 11,
   "metadata": {},
   "outputs": [],
   "source": [
    "import math\n",
    "\n",
    "class Field:\n",
    "    \"\"\"\n",
    "    Represents a field. For now, options are characteristic zero (R or C) and finite fields.\n",
    "    \"\"\"\n",
    "    def __init__(self, characteristic=0, cardinality=math.inf, real=True):\n",
    "        # Make sure we're all sane here\n",
    "        if not isinstance(characteristic, int) or characteristic < 0:\n",
    "            raise TypeError(\"Characteristic must be 0 or a positive integer (prime).\")\n",
    "        if not isinstance(cardinality, int) and cardinality != math.inf:\n",
    "            raise TypeError(\"Cardinality must be integral or infinite.\")\n",
    "        if not isinstance(real, bool):\n",
    "            raise TypeError(\"Variable 'real' must be a boolean!\")\n",
    "        \n",
    "        # Store our class variables.\n",
    "        self.char = characteristic\n",
    "        self.card = cardinality\n",
    "        self.real = real\n",
    "        \n",
    "        # R and C must be infinite cardinality!\n",
    "        if self.char == 0 and self.card < math.inf:\n",
    "            raise ValueError('Fields of characteristic zero must be infinite.')\n",
    "        # Finite fields must be the right order\n",
    "        if self.card < math.inf:\n",
    "            dim = int(math.log(self.card)/math.log(self.char))\n",
    "            if self.char**dim != self.card:\n",
    "                raise ValueError('Finite fields of characteristic p must be of size p^k.')\n",
    "        # No infinite fields of characteristic p\n",
    "        if self.char > 0 and self.card == math.inf:\n",
    "            raise ValueError('No infinite fields with positive characteristic.')\n",
    "        \n",
    "    def __str__(self):\n",
    "        if not self.real:\n",
    "            return 'the complex numbers'\n",
    "        elif self.char == 0:\n",
    "            return 'the real numbers'\n",
    "        else:\n",
    "            return 'the finite field F_(%d^%d)' % (self.char,int(math.log(self.card)/math.log(self.char)))\n",
    "        \n",
    "    def __eq__(self, other):\n",
    "        return (self.char, self.card, self.real) == (other.char, other.card, other.real)\n",
    "\n",
    "R = Field()\n",
    "C = Field(real=False)\n",
    "F8 = Field(characteristic=2, cardinality=8)\n",
    "G = Field(characteristic=2, cardinality=8)\n",
    "\n",
    "curve = EllipticCurve(1,2,F8)\n",
    "curve2 = EllipticCurve(1,2,G)\n",
    "curve3 = EllipticCurve(ComplexNumber(1),ComplexNumber(2),C)"
   ]
  },
  {
   "cell_type": "code",
   "execution_count": 12,
   "metadata": {},
   "outputs": [
    {
     "name": "stdout",
     "output_type": "stream",
     "text": [
      "the real numbers\n",
      "the complex numbers\n",
      "the finite field F_(2^3)\n",
      "Elliptic curve y^2z = x^3 + 1xz^2 + 2z^3 over the complex numbers.\n",
      "True\n",
      "False\n",
      "True\n",
      "True\n",
      "False\n"
     ]
    }
   ],
   "source": [
    "#testing\n",
    "\n",
    "print(R)\n",
    "print(C)\n",
    "print(F8)\n",
    "\n",
    "print(curve3)\n",
    "print(curve.containsPoint(5,2,5))\n",
    "print(R == C)\n",
    "print(F8 == G)\n",
    "print(curve == curve2)\n",
    "print(curve == curve3)"
   ]
  },
  {
   "cell_type": "code",
   "execution_count": 13,
   "metadata": {},
   "outputs": [],
   "source": [
    "class Point:\n",
    "    \"\"\"\n",
    "    Represents a (projective) point on a curve.\n",
    "    \"\"\"\n",
    "    def __init__(self,x,y,z,curve):\n",
    "        if (x,y,z) == (0,0,0):\n",
    "            raise ValueError(\"Projective coordinates can't all be zero!\")\n",
    "        if not curve.containsPoint(x,y,z):\n",
    "            raise ValueError(\"Point does not lie on the given curve!\")\n",
    "        self.modulus = curve.modulus\n",
    "        self.field = curve.field\n",
    "        self.x = x\n",
    "        self.y = y\n",
    "        self.z = z\n",
    "        self.curve = curve\n",
    "    \n",
    "    \"\"\"\n",
    "    Addition here is going to be addition on the elliptic curve.\n",
    "    \"\"\"\n",
    "    def __add__(self, other):\n",
    "        # First verify that you can actually add these points.\n",
    "        if self.curve == other.curve and self.curve.containsPoint(other):\n",
    "            pass\n",
    "        else:\n",
    "            raise ValueError('Attempted to add points from different curves!')\n",
    "            \n",
    "        if self.is_identity():\n",
    "            return other\n",
    "        elif other.is_identity():\n",
    "            return self\n",
    "        elif self == -other or self.y == 0:\n",
    "            return Point(0,1,0,curve)\n",
    "        elif self == other:\n",
    "            #TODO: Fix this so we don't have to do division.\n",
    "            s = (3*self.x*self.x+self.curve.a) / (2*self.y)\n",
    "        else:\n",
    "            #TODO: Same\n",
    "            s = (self.y-other-y)/(self.x-other.x)\n",
    "        \n",
    "        # Do the actual computation\n",
    "        newX = s*s - self.x - other.x\n",
    "        newY = s(newX - self.x) + self.y\n",
    "        \n",
    "        return Point(newX, newY, newZ, curve)\n",
    "    \n",
    "    def __neg__(self):\n",
    "        return Point(self.x, -self.y, self.z, curve)\n",
    "    \n",
    "    def __sub__(self, other):\n",
    "        return self.__add__(-other)\n",
    "    \n",
    "    def __eq__(self, other):\n",
    "        if self.z != 0 and other.z != 0:\n",
    "            return (self.x/self.z, self.y/self.z) == (other.x/other.z, other.y/other.z)\n",
    "        elif self.y != 0 and other.y != 0:\n",
    "            return (self.x/self.y, self.z/self.y) == (other.x/other.y, other.z/other.y)\n",
    "        else:\n",
    "            return (self.z/self.x, self.y/self.x) == (other.z/other.x, other.y/other.x)\n",
    "    \n",
    "    def is_identity(self):\n",
    "        return self.x == 0 and self.z == 0\n",
    "    \n",
    "    \"\"\"\n",
    "    Multiplication here is shorthand for iterated self-addition.\n",
    "    \n",
    "    \"\"\"\n",
    "    def __rmul__(self, coef):\n",
    "        return self*coef\n",
    "    \n",
    "    def __mul__(self, coef):\n",
    "        # First verify that you can actually add these points.\n",
    "        if isinstance(coef, int):\n",
    "            pass\n",
    "        else:\n",
    "            raise ValueError('Cannot multiply projective points by non-integers!')\n",
    "        \n",
    "        # Compute using a recursive definition\n",
    "        if coef < 0:\n",
    "            return -((-coef)*self)\n",
    "        elif coef == 0:\n",
    "            return Point(0,1,0,curve)\n",
    "        elif coef == 1:\n",
    "            return self\n",
    "        else:\n",
    "            return self + (coef - 1)*self"
   ]
  },
  {
   "cell_type": "markdown",
   "metadata": {},
   "source": [
    "## Complex Numbers\n",
    "I really wanted to implement my own version of $\\mathbb{C}$ so I did. It ends up that the native version of the complex numbers runs about 16 times faster for most operations. Not terribly surprising since it's probably implemented at a much lower level. I don't think you can make these computations more efficient (besides maybe the exponentiation)."
   ]
  },
  {
   "cell_type": "code",
   "execution_count": 8,
   "metadata": {},
   "outputs": [],
   "source": [
    "import math\n",
    "\n",
    "class ComplexNumber:\n",
    "    \"\"\"\n",
    "    Represents a complex number with real and imaginary parts as well as the operations that accompany them.\n",
    "    \n",
    "    Args:\n",
    "        real: The real part of the number\n",
    "        imaginary: The imaginary part of the number\n",
    "    \"\"\"\n",
    "    def __init__(self, real, imaginary=0):\n",
    "        self.real = real\n",
    "        self.imag = imaginary\n",
    "    \n",
    "    def __str__(self):\n",
    "        if self.imag == 0:\n",
    "            return str(self.real)\n",
    "        elif self.real == 0:\n",
    "            return \"%si\" % self.imag\n",
    "        elif self.imag > 0:\n",
    "            return \"%s + %si\" % (self.real, self.imag)\n",
    "        else:\n",
    "            return \"%s - %si\" % (self.real, -self.imag)\n",
    "    \n",
    "    def __add__(self, other):\n",
    "        return ComplexNumber(self.real+other.real, self.imag+other.imag)\n",
    "    \n",
    "    def __neg__(self):\n",
    "        return ComplexNumber(-self.real, -self.imag)\n",
    "    \n",
    "    def __sub__(self, other):\n",
    "        return self + (-other)\n",
    "    \n",
    "    def __abs__(self):\n",
    "        return math.sqrt(self.real**2 + self.imag**2)\n",
    "    \n",
    "    def __mul__(self, other):\n",
    "        if isinstance(other, ComplexNumber):\n",
    "            return ComplexNumber(self.real*other.real-self.imag*other.imag, self.real*other.imag+self.imag*other.real)\n",
    "        else:\n",
    "            return ComplexNumber(other*self.real, other*self.imag)\n",
    "    \n",
    "    def __rmul__(self, other):\n",
    "        return self.__mul__(other)\n",
    "    \n",
    "    def __truediv__(self, other):\n",
    "        if other.is_zero():\n",
    "            raise ZeroDivisionError()\n",
    "        newX = self.real*other.real + self.imag*other.imag\n",
    "        newY = self.imag*other.real - self.real*other.imag\n",
    "        factor = other.real**2+other.imag**2\n",
    "        return ComplexNumber(newX/factor, newY/factor)\n",
    "    \n",
    "    def __pow__(self, exp):\n",
    "        mag = abs(self)**exp\n",
    "        angle = math.atan(self.imag/self.real)\n",
    "        if self.real < 0:\n",
    "            angle += math.pi\n",
    "        angle *= exp\n",
    "        return mag*ComplexNumber(math.cos(angle), math.sin(angle))\n",
    "    \n",
    "    def is_zero(self):\n",
    "        return self.real == 0 and self.imag == 0\n",
    "    \n",
    "    def conjugate(self):\n",
    "        return ComplexNumber(self.real, -self.imag)\n",
    "\n",
    "z = ComplexNumber(1,2)\n",
    "w = ComplexNumber(4,2)\n",
    "\n",
    "a = complex(1,2)\n",
    "b = complex(4,2)"
   ]
  },
  {
   "cell_type": "code",
   "execution_count": 99,
   "metadata": {},
   "outputs": [
    {
     "name": "stdout",
     "output_type": "stream",
     "text": [
      "2.85 µs ± 60.1 ns per loop (mean ± std. dev. of 7 runs, 100000 loops each)\n",
      "224 ns ± 12.2 ns per loop (mean ± std. dev. of 7 runs, 1000000 loops each)\n"
     ]
    }
   ],
   "source": [
    "%timeit z**12.3\n",
    "%timeit a**12.3"
   ]
  },
  {
   "cell_type": "code",
   "execution_count": 115,
   "metadata": {},
   "outputs": [
    {
     "name": "stdout",
     "output_type": "stream",
     "text": [
      "9870.483984788209\n",
      "9870.483984788209\n",
      "3.141592653589793 + 6.283185307179586i\n",
      "3\n"
     ]
    }
   ],
   "source": [
    "print((z**12.3).real)\n",
    "print((a**12.3).real)\n",
    "print(math.pi*z)\n",
    "print(w-z)"
   ]
  },
  {
   "cell_type": "code",
   "execution_count": 114,
   "metadata": {},
   "outputs": [
    {
     "name": "stdout",
     "output_type": "stream",
     "text": [
      "5\n",
      "(1-2j)\n"
     ]
    }
   ],
   "source": [
    "print(z*z.conjugate())\n",
    "print(a.conjugate())"
   ]
  },
  {
   "cell_type": "code",
   "execution_count": 80,
   "metadata": {},
   "outputs": [
    {
     "data": {
      "text/plain": [
       "16.666666666666668"
      ]
     },
     "execution_count": 80,
     "metadata": {},
     "output_type": "execute_result"
    }
   ],
   "source": [
    "1000/60"
   ]
  },
  {
   "cell_type": "code",
   "execution_count": null,
   "metadata": {},
   "outputs": [],
   "source": []
  }
 ],
 "metadata": {
  "kernelspec": {
   "display_name": "Python 3",
   "language": "python",
   "name": "python3"
  },
  "language_info": {
   "codemirror_mode": {
    "name": "ipython",
    "version": 3
   },
   "file_extension": ".py",
   "mimetype": "text/x-python",
   "name": "python",
   "nbconvert_exporter": "python",
   "pygments_lexer": "ipython3",
   "version": "3.6.4"
  }
 },
 "nbformat": 4,
 "nbformat_minor": 2
}
