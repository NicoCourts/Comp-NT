{
 "cells": [
  {
   "cell_type": "markdown",
   "metadata": {},
   "source": [
    "# Project Euler problem 32 -- Pandigital Products\n",
    "We shall say that an $n$-digit number is pandigital if it makes use of all the digits $1$ to $n$ exactly once; for example, the 5-digit number, $15234$, is 1 through 5 pandigital.\n",
    "\n",
    "The product $7254$ is unusual, as the identity, $39 \\times 186 = 7254$, containing multiplicand, multiplier, and product is 1 through 9 pandigital.\n",
    "\n",
    "Find the sum of all products whose multiplicand/multiplier/product identity can be written as a 1 through 9 pandigital.\n",
    "\n",
    "HINT: Some products can be obtained in more than one way so be sure to only include it once in your sum."
   ]
  },
  {
   "cell_type": "markdown",
   "metadata": {},
   "source": [
    "---\n",
    "## Ideas\n",
    "- I am thinking I should take all permutations of $[9]$ and try breaking it into subsets $A,B$ and $C$ where (to avoid repeats) we will require that the number from concatenating the digits in $B$ will be greater than the same for $A$.\n",
    "- To this end, we can say that $|A|\\le|B|$\n",
    "- Furthermore because products are what they are,\n",
    "$$|A|+|B|-1\\le |C|\\le |A|+|B|+1$$"
   ]
  },
  {
   "cell_type": "code",
   "execution_count": 11,
   "metadata": {},
   "outputs": [],
   "source": [
    "# Using the logic above you can break it down to four cases:\n",
    "# Here (a,b) corresponds to taking p[a:b]\n",
    "splits = [\n",
    "    ((0, 1), (1, 4), (4, 9)), \n",
    "    ((0, 1), (1, 5), (5, 9)), \n",
    "    ((0, 2), (2, 4), (4, 9)), \n",
    "    ((0, 2), (2, 5), (5, 9))\n",
    "]"
   ]
  },
  {
   "cell_type": "code",
   "execution_count": 12,
   "metadata": {},
   "outputs": [],
   "source": [
    "from itertools import permutations\n",
    "def f():\n",
    "    lst = list(range(1,10))\n",
    "    sums = set()\n",
    "    for p in permutations(lst):\n",
    "        for s in splits:\n",
    "            x = getnum(p[s[0][0]:s[0][1]])\n",
    "            y = getnum(p[s[1][0]:s[1][1]])\n",
    "            prod = getnum(p[s[2][0]:s[2][1]])\n",
    "            if x*y == prod:\n",
    "                sums.add(prod)\n",
    "    return sum(sums)"
   ]
  },
  {
   "cell_type": "code",
   "execution_count": 13,
   "metadata": {},
   "outputs": [],
   "source": [
    "def getnum(lst):\n",
    "    total = 0\n",
    "    for i, val in enumerate(lst[::-1]):\n",
    "        total += 10**i*val\n",
    "    return total"
   ]
  },
  {
   "cell_type": "code",
   "execution_count": 16,
   "metadata": {},
   "outputs": [
    {
     "name": "stdout",
     "output_type": "stream",
     "text": [
      "The sum of all such products is 45228.\n",
      "4.43 s ± 55 ms per loop (mean ± std. dev. of 7 runs, 1 loop each)\n"
     ]
    }
   ],
   "source": [
    "print(f\"The sum of all such products is {f()}.\")\n",
    "%timeit f()"
   ]
  },
  {
   "cell_type": "markdown",
   "metadata": {},
   "source": [
    "## Takeaways\n"
   ]
  },
  {
   "cell_type": "markdown",
   "metadata": {},
   "source": [
    "I believe I more-or-less used the right tactics here. This is perhaps a little slow but I don't think there is much you can do about that. \n",
    "\n",
    "One thing I did notice is that The products only actually come from two of the \"forms\" I single out above in `splits`. I think this has more to do with the fact that getting a five-digit product from a two and three digit multiplicands."
   ]
  },
  {
   "cell_type": "code",
   "execution_count": null,
   "metadata": {},
   "outputs": [],
   "source": []
  }
 ],
 "metadata": {
  "kernelspec": {
   "display_name": "Python 3",
   "language": "python",
   "name": "python3"
  },
  "language_info": {
   "codemirror_mode": {
    "name": "ipython",
    "version": 3
   },
   "file_extension": ".py",
   "mimetype": "text/x-python",
   "name": "python",
   "nbconvert_exporter": "python",
   "pygments_lexer": "ipython3",
   "version": "3.6.4"
  }
 },
 "nbformat": 4,
 "nbformat_minor": 2
}
