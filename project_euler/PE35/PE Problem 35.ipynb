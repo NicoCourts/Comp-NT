{
 "cells": [
  {
   "cell_type": "markdown",
   "metadata": {},
   "source": [
    "# Project Euler problem 35\n",
    "The number, 197, is called a circular prime because all rotations of the digits: 197, 971, and 719, are themselves prime.\n",
    "\n",
    "There are thirteen such primes below 100: 2, 3, 5, 7, 11, 13, 17, 31, 37, 71, 73, 79, and 97.\n",
    "\n",
    "How many circular primes are there below one million?"
   ]
  },
  {
   "cell_type": "markdown",
   "metadata": {},
   "source": [
    "---\n",
    "## Ideas\n",
    "- Let's just use a prime generator to get primes below 1 000 000 and then check them."
   ]
  },
  {
   "cell_type": "code",
   "execution_count": 1,
   "metadata": {},
   "outputs": [],
   "source": [
    "def genPrimes(n):\n",
    "    composites = dict()\n",
    "    for i in range(2,n//2+1):\n",
    "        if i not in composites:\n",
    "            yield i\n",
    "            composites[i*i] = set()\n",
    "            composites[i*i].add(i)\n",
    "        else:\n",
    "            for j in composites[i]:\n",
    "                nextMultiple = i + j\n",
    "                if nextMultiple not in composites:\n",
    "                    composites[nextMultiple] = set()\n",
    "                composites[nextMultiple].add(j)\n",
    "            del composites[i]"
   ]
  },
  {
   "cell_type": "markdown",
   "metadata": {},
   "source": [
    "## Takeaways\n"
   ]
  },
  {
   "cell_type": "code",
   "execution_count": null,
   "metadata": {},
   "outputs": [],
   "source": []
  }
 ],
 "metadata": {
  "kernelspec": {
   "display_name": "Python 3",
   "language": "python",
   "name": "python3"
  },
  "language_info": {
   "codemirror_mode": {
    "name": "ipython",
    "version": 3
   },
   "file_extension": ".py",
   "mimetype": "text/x-python",
   "name": "python",
   "nbconvert_exporter": "python",
   "pygments_lexer": "ipython3",
   "version": "3.6.4"
  }
 },
 "nbformat": 4,
 "nbformat_minor": 2
}
