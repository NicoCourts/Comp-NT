{
 "cells": [
  {
   "cell_type": "markdown",
   "metadata": {},
   "source": [
    "# Project Euler Problem 651\n",
    "\n",
    "An infinitely long cylinder has its curved surface fully covered with different coloured but otherwise identical rectangular stickers, without overlapping. The stickers are aligned with the cylinder, so two of their edges are parallel with the cylinder's axis, with four stickers meeting at each corner.\n",
    "\n",
    "Let $a>0$ and suppose that the colouring is periodic along the cylinder, with the pattern repeating every a stickers. (The period is allowed to be any divisor of $a$.) Let $b$ be the number of stickers that fit round the circumference of the cylinder.\n",
    "\n",
    "Let $f(m,a,b)$ be the number of different such periodic patterns that use exactly m distinct colours of stickers. Translations along the axis, reflections in any plane, rotations in any axis, (or combinations of such operations) applied to a pattern are to be counted as the same as the original pattern.\n",
    "\n",
    "You are given that $f(2,2,3)=11$, $f(3,2,3)=56$, and $f(2,3,4)=156$. Furthermore, $f(8,13,21)≡49718354\\pmod{1000000007}$, and $f(13,144,233)≡907081451\\pmod{1000000007}$.\n",
    "\n",
    "Find $\\sum^{40}_{i=4}f(i,F_{i−1},F_i)\\pmod{1000000007}$, where $F_i$ are the Fibonacci numbers starting at $F_0=0$, $F_1=1$.\n",
    "\n",
    "## People Present\n",
    "Today we had Thomas C, Thomas B, Rowan, Cody, and Nico."
   ]
  },
  {
   "cell_type": "markdown",
   "metadata": {},
   "source": [
    "---\n",
    "\n",
    "Some ideas:\n",
    " - Burnside's lemma\n",
    "  - If $G$ acts on $X$, then \n",
    "  $$|X/G|=\\frac{1}{|G|}\\sum_{g\\in G}|X^g|$$\n",
    "  - Here we're thinking the group is $D_a\\times D_b$\n",
    "  - Define $c(m,k)=\\sum_0^m(-1)^i\\binom{m}{i}(m-i)^k$. This is (equivalently) the number of colorings of $m$ objects using (exactly) $k$ colors or the number of maps $[k]\\twoheadrightarrow [m]$.\n",
    "  - If $N_g$ is the number of orbits of $\\langle g\\rangle$ in the squares comprising the rectangle, then\n",
    "  $$\\sum_g|X^g|=\\sum_g c(m,N_g)$$"
   ]
  },
  {
   "cell_type": "code",
   "execution_count": 34,
   "metadata": {},
   "outputs": [],
   "source": [
    "import numpy as np\n",
    "import scipy.special\n",
    "import math"
   ]
  },
  {
   "cell_type": "code",
   "execution_count": 70,
   "metadata": {},
   "outputs": [],
   "source": [
    "def c(m,k):\n",
    "    total = 0\n",
    "    for i in range(m):\n",
    "        total += (-1)**i*int(scipy.special.binom(m,i))*(m-i)**k\n",
    "    return total"
   ]
  },
  {
   "cell_type": "code",
   "execution_count": 135,
   "metadata": {},
   "outputs": [],
   "source": [
    "def f(m,a,b):\n",
    "    G_inv = pow(4*a*b,1000000005,1000000007)\n",
    "    \n",
    "    total = 0\n",
    "    \n",
    "    # This counts translations by (x,y)\n",
    "    # Sum over x|a for D_a\n",
    "    for x in range(1,a+1):\n",
    "        if (a % x == 0):\n",
    "            # Sum over y|b\n",
    "            for y in range(1,b+1):\n",
    "                if (b % y == 0):\n",
    "                    print(\"x is %d, y is %d, c(m,x*y) is %d\" % (x,y,c(m,x*y)))\n",
    "                    total += c(m,x*y)*phi(int(a/x))*phi(int(b/y))\n",
    "    print(\"After translations, the total is %d\" % (total/(4*a*b)))\n",
    "    \n",
    "    # Now count the reflections:\n",
    "    \n",
    "    for x in range(1, a+1):\n",
    "        G = math.gcd(a,x)\n",
    "        # Do we double back on ourselves early?\n",
    "        if ((a/G) % 2 == 0):\n",
    "            z = 1\n",
    "        else:\n",
    "            z = 1/2\n",
    "            \n",
    "        # Consider different numbers of fixed points\n",
    "        if b%2==0:\n",
    "            # Either 0 or two fixed points\n",
    "            # a/2 of each\n",
    "            w = z\n",
    "            # zero fixed pts\n",
    "            z *= b*G\n",
    "            # two fixed points\n",
    "            w *= (b-2)*G\n",
    "            w += 2*G\n",
    "            \n",
    "            # number of orbits\n",
    "            N = int((1/2)*(z+w))\n",
    "            \n",
    "            total += c(m,N)\n",
    "            \n",
    "        else:\n",
    "            # Always one fixed point\n",
    "            # there are a of them.\n",
    "            z *= G*(b-1)\n",
    "            z += G\n",
    "            \n",
    "            # Number of orbits\n",
    "            N = int(z)\n",
    "            \n",
    "            total += c(m,N)\n",
    "            \n",
    "    print(\"After x-reflections, the total is %d\" % (total/(4*a*b)))   \n",
    "    for y in range(1,b+1):\n",
    "        G = math.gcd(b,x)\n",
    "        # Do we double back on ourselves early?\n",
    "        if ((b/G) % 2 == 0):\n",
    "            z = 1\n",
    "        else:\n",
    "            z = 1/2\n",
    "            \n",
    "        # Consider different numbers of fixed points\n",
    "        if a%2==0:\n",
    "            # Either 0 or two fixed points\n",
    "            # a/2 of each\n",
    "            w = z\n",
    "            # zero fixed pts\n",
    "            z *= a*G\n",
    "            # two fixed points\n",
    "            w *= (a-2)*G\n",
    "            w += 2*G\n",
    "            \n",
    "            # number of orbits\n",
    "            N = int((1/2)*(z+w))\n",
    "            \n",
    "            total += c(m,N)\n",
    "            \n",
    "        else:\n",
    "            # Always one fixed point\n",
    "            # there are a of them.\n",
    "            z *= G*(a-1)\n",
    "            z += G\n",
    "            \n",
    "            # Number of orbits\n",
    "            N = int(z)\n",
    "            \n",
    "            total += c(m,N)\n",
    "    print(\"After y-reflections, the total is %d\" % (total/(4*a*b))) \n",
    "    \n",
    "    if (a%2 !=0 and b%2 != 0):\n",
    "        total += a*b*c(m,(a*b-1)/2)\n",
    "    else:\n",
    "        total += a*b*(c(m,a*b/2+1)+c(m,a*b/2))/2\n",
    "            \n",
    "    return (total/(4*a*b)) % 1000000007   "
   ]
  },
  {
   "cell_type": "code",
   "execution_count": 28,
   "metadata": {},
   "outputs": [],
   "source": [
    "def fib_gen():\n",
    "        yield b\n",
    "        a,b = b, a+b"
   ]
  },
  {
   "cell_type": "code",
   "execution_count": 44,
   "metadata": {},
   "outputs": [],
   "source": [
    "def phi(n):\n",
    "    amount = 0        \n",
    "    for k in range(1, n + 1):\n",
    "        if math.gcd(n, k) == 1:\n",
    "            amount += 1\n",
    "    return amount"
   ]
  },
  {
   "cell_type": "code",
   "execution_count": 137,
   "metadata": {},
   "outputs": [
    {
     "name": "stdout",
     "output_type": "stream",
     "text": [
      "x is 1, y is 1, c(m,x*y) is 0\n",
      "x is 1, y is 3, c(m,x*y) is 6\n",
      "x is 2, y is 1, c(m,x*y) is 2\n",
      "x is 2, y is 3, c(m,x*y) is 62\n",
      "After translations, the total is 3\n",
      "After x-reflections, the total is 3\n",
      "After y-reflections, the total is 3\n"
     ]
    },
    {
     "data": {
      "text/plain": [
       "6.333333333333333"
      ]
     },
     "execution_count": 137,
     "metadata": {},
     "output_type": "execute_result"
    }
   ],
   "source": [
    "f(2,2,3)"
   ]
  },
  {
   "cell_type": "code",
   "execution_count": 76,
   "metadata": {},
   "outputs": [
    {
     "data": {
      "text/plain": [
       "6"
      ]
     },
     "execution_count": 76,
     "metadata": {},
     "output_type": "execute_result"
    }
   ],
   "source": [
    "c(2,3)"
   ]
  },
  {
   "cell_type": "code",
   "execution_count": null,
   "metadata": {},
   "outputs": [],
   "source": []
  }
 ],
 "metadata": {
  "kernelspec": {
   "display_name": "Python 3",
   "language": "python",
   "name": "python3"
  },
  "language_info": {
   "codemirror_mode": {
    "name": "ipython",
    "version": 3
   },
   "file_extension": ".py",
   "mimetype": "text/x-python",
   "name": "python",
   "nbconvert_exporter": "python",
   "pygments_lexer": "ipython3",
   "version": "3.6.4"
  }
 },
 "nbformat": 4,
 "nbformat_minor": 2
}
