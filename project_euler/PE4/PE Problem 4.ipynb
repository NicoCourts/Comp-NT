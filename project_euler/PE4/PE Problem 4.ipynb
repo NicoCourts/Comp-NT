{
 "cells": [
  {
   "cell_type": "markdown",
   "metadata": {},
   "source": [
    "# Project Euler Problem 4\n",
    "A palindromic number reads the same both ways. The largest palindrome made from the product of two 2-digit numbers is $9009 = 91\\times99$.\n",
    "\n",
    "Find the largest palindrome made from the product of two 3-digit numbers.\n"
   ]
  },
  {
   "cell_type": "markdown",
   "metadata": {},
   "source": [
    "---\n",
    "I will use the fact that a product of two 3-digit numbers will lie between 10,000 and 998,001 and begin with a naive loop:"
   ]
  },
  {
   "cell_type": "code",
   "execution_count": 13,
   "metadata": {},
   "outputs": [
    {
     "name": "stdout",
     "output_type": "stream",
     "text": [
      "False\n",
      "True\n",
      "True\n"
     ]
    }
   ],
   "source": [
    "def isPalindrome(n):\n",
    "    s = str(n)\n",
    "    if s[0] != s[-1]:\n",
    "        return False\n",
    "    for i in range(1,len(s)//2+2):\n",
    "        if s[i] != s[-i-1]:\n",
    "            return False\n",
    "    return True\n",
    "\n",
    "print(isPalindrome(123))\n",
    "print(isPalindrome(12321))\n",
    "print(isPalindrome(112211))"
   ]
  },
  {
   "cell_type": "code",
   "execution_count": 14,
   "metadata": {},
   "outputs": [],
   "source": [
    "# Generates palindromes between minimum and maximum (inclusive).\n",
    "def genPalindromes(minimum, maximum):\n",
    "    for i in range(maximum, minimum-1, -1):\n",
    "        if isPalindrome(i):\n",
    "            yield i"
   ]
  },
  {
   "cell_type": "code",
   "execution_count": 15,
   "metadata": {},
   "outputs": [
    {
     "name": "stdout",
     "output_type": "stream",
     "text": [
      "997799\n",
      "996699\n",
      "995599\n",
      "994499\n",
      "993399\n",
      "992299\n",
      "991199\n",
      "990099\n",
      "989989\n",
      "988889\n"
     ]
    }
   ],
   "source": [
    "palin = genPalindromes(10000,998001)\n",
    "for _ in range(10):\n",
    "    print(next(palin))"
   ]
  },
  {
   "cell_type": "markdown",
   "metadata": {},
   "source": [
    "It just occurred to me that, in fact, if $n=abccba$, then\n",
    "$$n=a\\cdot 100001+10(b\\cdot 1001+c\\cdot 110)=11(9091a+910b+10c)$$\n",
    "which I think could be useful. At the very least it decreases the search space by a factor of 11.\n",
    "\n",
    "On the other hand, if $n=abcba$,\n",
    "$$n=10001a+1010b+100c$$\n",
    "which is not divisible by 11."
   ]
  },
  {
   "cell_type": "code",
   "execution_count": 26,
   "metadata": {},
   "outputs": [
    {
     "name": "stdout",
     "output_type": "stream",
     "text": [
      "Max values are 913 and 993 and the palindrome is 906609\n"
     ]
    }
   ],
   "source": [
    "def f():\n",
    "    palin = genPalindromes(10000,998001)\n",
    "    for pal in palin:\n",
    "        for x in range(990,100, -11):\n",
    "            if pal % x == 0 and pal/x < 1000:\n",
    "                return (x, pal/x)\n",
    "\n",
    "(a,b) = f()\n",
    "print('Max values are %d and %d and the palindrome is %d' % (a,b,a*b))"
   ]
  },
  {
   "cell_type": "code",
   "execution_count": 28,
   "metadata": {},
   "outputs": [
    {
     "name": "stdout",
     "output_type": "stream",
     "text": [
      "38.1 ms ± 1.64 ms per loop (mean ± std. dev. of 7 runs, 10 loops each)\n"
     ]
    }
   ],
   "source": [
    "%timeit f()"
   ]
  },
  {
   "cell_type": "markdown",
   "metadata": {},
   "source": [
    "In retrospect, we could have seen that the last digit of the first number"
   ]
  }
 ],
 "metadata": {
  "kernelspec": {
   "display_name": "Python 3",
   "language": "python",
   "name": "python3"
  },
  "language_info": {
   "codemirror_mode": {
    "name": "ipython",
    "version": 3
   },
   "file_extension": ".py",
   "mimetype": "text/x-python",
   "name": "python",
   "nbconvert_exporter": "python",
   "pygments_lexer": "ipython3",
   "version": "3.6.4"
  }
 },
 "nbformat": 4,
 "nbformat_minor": 2
}
