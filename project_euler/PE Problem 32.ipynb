{
 "cells": [
  {
   "cell_type": "markdown",
   "metadata": {},
   "source": [
    "# Project Euler problem 32 -- Pandigital Products\n",
    "We shall say that an $n$-digit number is pandigital if it makes use of all the digits $1$ to $n$ exactly once; for example, the 5-digit number, $15234$, is 1 through 5 pandigital.\n",
    "\n",
    "The product $7254$ is unusual, as the identity, $39 \\times 186 = 7254$, containing multiplicand, multiplier, and product is 1 through 9 pandigital.\n",
    "\n",
    "Find the sum of all products whose multiplicand/multiplier/product identity can be written as a 1 through 9 pandigital.\n",
    "\n",
    "HINT: Some products can be obtained in more than one way so be sure to only include it once in your sum."
   ]
  },
  {
   "cell_type": "markdown",
   "metadata": {},
   "source": [
    "---\n",
    "## Ideas\n",
    "- I am thinking I should take all permutations of $[9]$ and try breaking it into subsets $A,B$ and $C$ where (to avoid repeats) we will require that the number from concatenating the digits in $B$ will be greater than the same for $A$.\n",
    "- To this end, we can say that $|A|\\le|B|$\n",
    "- Furthermore because products are what they are,\n",
    "$$|A|+|B|-1\\le |C|\\le |A|+|B|+1$$"
   ]
  },
  {
   "cell_type": "code",
   "execution_count": 24,
   "metadata": {},
   "outputs": [
    {
     "name": "stdout",
     "output_type": "stream",
     "text": [
      "[((0, 1), (1, 4), (4, 9)), ((0, 1), (1, 5), (5, 9)), ((0, 2), (2, 4), (4, 9)), ((0, 2), (2, 5), (5, 9))]\n",
      "4\n"
     ]
    }
   ],
   "source": [
    "splits = []\n",
    "for i in range(1,10):\n",
    "    for j in range(i,10):\n",
    "        c = 9-2*i-2*j\n",
    "        if c >= -1 and c <= 1:\n",
    "            splits.append(((0,i),(i,i+j),(i+j,9)))\n",
    "print(splits)\n",
    "print(len(splits))"
   ]
  },
  {
   "cell_type": "code",
   "execution_count": 26,
   "metadata": {},
   "outputs": [
    {
     "name": "stdout",
     "output_type": "stream",
     "text": [
      "12 x 483 = 5796\n",
      "18 x 297 = 5346\n",
      "27 x 198 = 5346\n",
      "28 x 157 = 4396\n",
      "39 x 186 = 7254\n",
      "4 x 1738 = 6952\n",
      "4 x 1963 = 7852\n",
      "42 x 138 = 5796\n",
      "48 x 159 = 7632\n",
      "45228\n"
     ]
    }
   ],
   "source": [
    "from itertools import permutations\n",
    "lst = list(range(1,10))\n",
    "sums = set()\n",
    "for p in permutations(lst):\n",
    "    for s in splits:\n",
    "        x = getnum(p[s[0][0]:s[0][1]])\n",
    "        y = getnum(p[s[1][0]:s[1][1]])\n",
    "        prod = getnum(p[s[2][0]:s[2][1]])\n",
    "        if x*y == prod:\n",
    "            print(\"%s x %s = %s\" % (x,y,prod))\n",
    "            sums.add(prod)\n",
    "print(sum(sums))"
   ]
  },
  {
   "cell_type": "code",
   "execution_count": 4,
   "metadata": {},
   "outputs": [],
   "source": [
    "def getnum(lst):\n",
    "    total = 0\n",
    "    for i, val in enumerate(lst[::-1]):\n",
    "        total += 10**i*val\n",
    "    return total"
   ]
  },
  {
   "cell_type": "code",
   "execution_count": 8,
   "metadata": {},
   "outputs": [
    {
     "data": {
      "text/plain": [
       "3"
      ]
     },
     "execution_count": 8,
     "metadata": {},
     "output_type": "execute_result"
    }
   ],
   "source": [
    "lst = [1,2,3,4]\n",
    "lst[-2]"
   ]
  },
  {
   "cell_type": "markdown",
   "metadata": {},
   "source": [
    "## Takeaways\n"
   ]
  },
  {
   "cell_type": "code",
   "execution_count": null,
   "metadata": {},
   "outputs": [],
   "source": []
  }
 ],
 "metadata": {
  "kernelspec": {
   "display_name": "Python 3",
   "language": "python",
   "name": "python3"
  },
  "language_info": {
   "codemirror_mode": {
    "name": "ipython",
    "version": 3
   },
   "file_extension": ".py",
   "mimetype": "text/x-python",
   "name": "python",
   "nbconvert_exporter": "python",
   "pygments_lexer": "ipython3",
   "version": "3.6.7"
  }
 },
 "nbformat": 4,
 "nbformat_minor": 2
}
