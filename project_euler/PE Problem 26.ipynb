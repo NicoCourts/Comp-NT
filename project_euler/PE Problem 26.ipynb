{
 "cells": [
  {
   "cell_type": "markdown",
   "metadata": {},
   "source": [
    "# Project Euler problem 26\n",
    "A unit fraction contains 1 in the numerator. The decimal representation of the unit fractions with denominators 2 to 10 are given:\n",
    "\n",
    "- 1/2\t= 0.5\n",
    "- 1/3\t= \t0.(3)\n",
    "- 1/4\t= \t0.25\n",
    "- 1/5\t= \t0.2\n",
    "- 1/6\t= \t0.1(6)\n",
    "- 1/7\t= \t0.(142857)\n",
    "- 1/8\t= \t0.125\n",
    "- 1/9\t= \t0.(1)\n",
    "- 1/10\t= \t0.1\n",
    "\n",
    "Where 0.1(6) means 0.166666..., and has a 1-digit recurring cycle. It can be seen that 1/7 has a 6-digit recurring cycle.\n",
    "\n",
    "Find the value of d < 1000 for which 1/d contains the longest recurring cycle in its decimal fraction part."
   ]
  },
  {
   "cell_type": "markdown",
   "metadata": {},
   "source": [
    "---\n",
    "## Ideas\n",
    "- "
   ]
  },
  {
   "cell_type": "code",
   "execution_count": 42,
   "metadata": {},
   "outputs": [],
   "source": [
    "from decimal import *\n",
    "getcontext().prec=1000"
   ]
  },
  {
   "cell_type": "code",
   "execution_count": 39,
   "metadata": {},
   "outputs": [],
   "source": [
    "def f(n):\n",
    "    div = 1\n",
    "    while n%2 == 0:\n",
    "        n /= 2\n",
    "        div *= 2\n",
    "    while n%5 == 0:\n",
    "        n /=5\n",
    "        div *= 5\n",
    "    # Now we've sucked out the tens.\n",
    "    # We are going to multiply n by \n",
    "    if n == 1:\n",
    "        return (0,0)\n",
    "    k=1\n",
    "    while True:\n",
    "        m = (10**k-1)/n\n",
    "        if int(m) == m:\n",
    "            return (k, m*div)\n",
    "        k += 1"
   ]
  },
  {
   "cell_type": "code",
   "execution_count": 43,
   "metadata": {},
   "outputs": [
    {
     "name": "stdout",
     "output_type": "stream",
     "text": [
      "The integer with the longest repeating bit is 983 with a length of 982\n",
      "2.1384382247924805\n"
     ]
    }
   ],
   "source": [
    "import time\n",
    "begin = time.time()\n",
    "maxlen = 0\n",
    "maxint = 0\n",
    "for i in range(1,1000):\n",
    "    l, m = f(Decimal(i))\n",
    "    if l > maxlen:\n",
    "        maxlen = l\n",
    "        maxint = i\n",
    "print(\"The integer with the longest repeating bit is %d with a length of %d\" % (maxint,maxlen))\n",
    "print(time.time()-begin)"
   ]
  },
  {
   "cell_type": "markdown",
   "metadata": {},
   "source": [
    "## Takeaways\n",
    "Overall this was a challenging problem because it asked us not only to do some computation, but also had us run up against limits in the precision of decimal representations in python. I guess the take away here is that precision (and data types!) are important. :)"
   ]
  },
  {
   "cell_type": "code",
   "execution_count": null,
   "metadata": {},
   "outputs": [],
   "source": []
  }
 ],
 "metadata": {
  "kernelspec": {
   "display_name": "Python 3",
   "language": "python",
   "name": "python3"
  },
  "language_info": {
   "codemirror_mode": {
    "name": "ipython",
    "version": 3
   },
   "file_extension": ".py",
   "mimetype": "text/x-python",
   "name": "python",
   "nbconvert_exporter": "python",
   "pygments_lexer": "ipython3",
   "version": "3.6.7"
  }
 },
 "nbformat": 4,
 "nbformat_minor": 2
}
