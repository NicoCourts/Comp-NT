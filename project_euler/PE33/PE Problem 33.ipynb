{
 "cells": [
  {
   "cell_type": "markdown",
   "metadata": {},
   "source": [
    "# Project Euler problem 33\n",
    "The fraction 49/98 is a curious fraction, as an inexperienced mathematician in attempting to simplify it may incorrectly believe that 49/98 = 4/8, which is correct, is obtained by cancelling the 9s.\n",
    "\n",
    "We shall consider fractions like, 30/50 = 3/5, to be trivial examples.\n",
    "\n",
    "There are exactly four non-trivial examples of this type of fraction, less than one in value, and containing two digits in the numerator and denominator.\n",
    "\n",
    "If the product of these four fractions is given in its lowest common terms, find the value of the denominator."
   ]
  },
  {
   "cell_type": "markdown",
   "metadata": {},
   "source": [
    "---\n",
    "## Ideas\n",
    "- At first I thought I might be able to solve it by hand using that if\n",
    "$$\\frac{10a+b}{10b+c}=\\frac{a}{c}$$\n",
    "  this imposes that $b$ must be\n",
    "  $$b=\\frac{9ac}{10a-c}$$\n",
    "  but I couldn't find out a nice way to requre this be an integer.\n",
    "- Brute force should be very fast"
   ]
  },
  {
   "cell_type": "code",
   "execution_count": 15,
   "metadata": {},
   "outputs": [],
   "source": [
    "def f():\n",
    "    total = 1\n",
    "    for a in range(1,10):\n",
    "        for c in range(a+1,10):\n",
    "            b = (9*a*c)/(10*a-c)\n",
    "            if int(b) == b and b < 10:\n",
    "                print(f\"{a}{int(b)}/{int(b)}{c}\")\n",
    "                total *= a/c\n",
    "    print(f\"Product of all of them: {total}\")"
   ]
  },
  {
   "cell_type": "code",
   "execution_count": 16,
   "metadata": {},
   "outputs": [
    {
     "name": "stdout",
     "output_type": "stream",
     "text": [
      "16/64\n",
      "19/95\n",
      "26/65\n",
      "49/98\n",
      "Product of all of them: 0.010000000000000002\n"
     ]
    }
   ],
   "source": [
    "f()"
   ]
  },
  {
   "cell_type": "markdown",
   "metadata": {},
   "source": [
    "The rest I could have done by hand using the cancellation property:\n",
    "$$\\frac{1}{4}\\frac{1}{5}\\frac{2}{5}\\frac{4}{8}=\\frac{1}{100}$$"
   ]
  },
  {
   "cell_type": "markdown",
   "metadata": {},
   "source": [
    "## Takeaways\n"
   ]
  },
  {
   "cell_type": "markdown",
   "metadata": {},
   "source": [
    "2 E Z"
   ]
  },
  {
   "cell_type": "code",
   "execution_count": null,
   "metadata": {},
   "outputs": [],
   "source": []
  }
 ],
 "metadata": {
  "kernelspec": {
   "display_name": "Python 3",
   "language": "python",
   "name": "python3"
  },
  "language_info": {
   "codemirror_mode": {
    "name": "ipython",
    "version": 3
   },
   "file_extension": ".py",
   "mimetype": "text/x-python",
   "name": "python",
   "nbconvert_exporter": "python",
   "pygments_lexer": "ipython3",
   "version": "3.6.4"
  }
 },
 "nbformat": 4,
 "nbformat_minor": 2
}
