{
 "cells": [
  {
   "cell_type": "markdown",
   "metadata": {},
   "source": [
    "# Project Euler Problem 4\n",
    "A palindromic number reads the same both ways. The largest palindrome made from the product of two 2-digit numbers is $9009 = 91\\times99$.\n",
    "\n",
    "Find the largest palindrome made from the product of two 3-digit numbers.\n"
   ]
  },
  {
   "cell_type": "markdown",
   "metadata": {},
   "source": [
    "---\n",
    "I will use the fact that a product of two 3-digit numbers will lie between 10,000 and 998,001 and begin with a naive loop:"
   ]
  },
  {
   "cell_type": "code",
   "execution_count": 13,
   "metadata": {},
   "outputs": [
    {
     "name": "stdout",
     "output_type": "stream",
     "text": [
      "False\n",
      "True\n",
      "True\n"
     ]
    }
   ],
   "source": [
    "def isPalindrome(n):\n",
    "    s = str(n)\n",
    "    if s[0] != s[-1]:\n",
    "        return False\n",
    "    for i in range(1,len(s)//2+2):\n",
    "        if s[i] != s[-i-1]:\n",
    "            return False\n",
    "    return True\n",
    "\n",
    "print(isPalindrome(123))\n",
    "print(isPalindrome(12321))\n",
    "print(isPalindrome(112211))"
   ]
  },
  {
   "cell_type": "code",
   "execution_count": 14,
   "metadata": {},
   "outputs": [],
   "source": [
    "# Generates palindromes between minimum and maximum (inclusive).\n",
    "def genPalindromes(minimum, maximum):\n",
    "    for i in range(maximum, minimum-1, -1):\n",
    "        if isPalindrome(i):\n",
    "            yield i"
   ]
  },
  {
   "cell_type": "code",
   "execution_count": 15,
   "metadata": {},
   "outputs": [
    {
     "name": "stdout",
     "output_type": "stream",
     "text": [
      "997799\n",
      "996699\n",
      "995599\n",
      "994499\n",
      "993399\n",
      "992299\n",
      "991199\n",
      "990099\n",
      "989989\n",
      "988889\n"
     ]
    }
   ],
   "source": [
    "palin = genPalindromes(10000,998001)\n",
    "for _ in range(10):\n",
    "    print(next(palin))"
   ]
  },
  {
   "cell_type": "markdown",
   "metadata": {},
   "source": [
    "It just occurred to me that, in fact, if $n=abccba$, then\n",
    "$$n=a\\cdot 100001+10(b\\cdot 1001+c\\cdot 110)=11(9091a+910b+10c))=11((9a)(9b)(9a+b+c)(a))$$\n",
    "which I think could be useful.\n",
    "\n",
    "On the other hand, if $n=abcba$,\n",
    "$$n=10001a+1010b+100c$$\n",
    "which is not divisible by 11."
   ]
  },
  {
   "cell_type": "code",
   "execution_count": 20,
   "metadata": {},
   "outputs": [
    {
     "data": {
      "text/plain": [
       "16971.0"
      ]
     },
     "execution_count": 20,
     "metadata": {},
     "output_type": "execute_result"
    }
   ],
   "source": [
    "186681/11"
   ]
  },
  {
   "cell_type": "code",
   "execution_count": null,
   "metadata": {},
   "outputs": [],
   "source": []
  }
 ],
 "metadata": {
  "kernelspec": {
   "display_name": "Python 3",
   "language": "python",
   "name": "python3"
  },
  "language_info": {
   "codemirror_mode": {
    "name": "ipython",
    "version": 3
   },
   "file_extension": ".py",
   "mimetype": "text/x-python",
   "name": "python",
   "nbconvert_exporter": "python",
   "pygments_lexer": "ipython3",
   "version": "3.6.4"
  }
 },
 "nbformat": 4,
 "nbformat_minor": 2
}
