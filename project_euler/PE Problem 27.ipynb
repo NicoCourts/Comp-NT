{
 "cells": [
  {
   "cell_type": "markdown",
   "metadata": {},
   "source": [
    "# Project Euler problem 27\n",
    "Euler discovered the remarkable quadratic formula:\n",
    "\n",
    "$$n^2+n+41$$\n",
    "It turns out that the formula will produce 40 primes for the consecutive integer values $0\\le n\\le39$. However, when $n=40$,\n",
    "$$40^2+40+41=40(40+1)+41$$\n",
    "is divisible by 41, and certainly when $n=41$,\n",
    "$$41^2+41+41$$ \n",
    "is clearly divisible by 41.\n",
    "\n",
    "The incredible formula $n^2−79n+1601$ was discovered, which produces 80 primes for the consecutive values $0\\le n\\le 79$. The product of the coefficients, $-79$ and $1601$, is $-126479$.\n",
    "\n",
    "Considering quadratics of the form:\n",
    "\n",
    "$n^2+an+b$, where $|a|<1000$ and $|b|≤1000$\n",
    "\n",
    "Find the product of the coefficients, $a$ and $b$, for the quadratic expression that produces the maximum number of primes for consecutive values of $n$, starting with $n=0$."
   ]
  },
  {
   "cell_type": "markdown",
   "metadata": {},
   "source": [
    "---\n",
    "## Ideas\n",
    "- Notice that since we want this to start for $n=0$ that $b$ must be (a positive!) prime. This helps significantly.\n",
    "- More likely than not, the second formula given is the best you can do to get 80 primes. Thus we can place \n",
    "$$79^2+1000\\cdot 79+1000=86241$$\n",
    "  as an upper bound on the primes we're searching for. This gives us a fixed set to look in.\n",
    "- I believe that Euler probably found the lowest value of $b$ that works for that many primes, so we are probably looking higher. This halves the search space."
   ]
  },
  {
   "cell_type": "code",
   "execution_count": 4,
   "metadata": {},
   "outputs": [],
   "source": [
    "import math"
   ]
  },
  {
   "cell_type": "code",
   "execution_count": 5,
   "metadata": {},
   "outputs": [],
   "source": [
    "def genPrimes(n):\n",
    "    composites = dict()\n",
    "    for i in range(2,n):\n",
    "        if i not in composites:\n",
    "            yield i\n",
    "            composites[i*i] = set()\n",
    "            composites[i*i].add(i)\n",
    "        else:\n",
    "            for j in composites[i]:\n",
    "                nextMultiple = i + j\n",
    "                if nextMultiple not in composites:\n",
    "                    composites[nextMultiple] = set()\n",
    "                composites[nextMultiple].add(j)\n",
    "            del composites[i]"
   ]
  },
  {
   "cell_type": "code",
   "execution_count": 6,
   "metadata": {},
   "outputs": [],
   "source": [
    "# primes that are candidates in our sequences -- 8383 of them.\n",
    "primeGen = genPrimes(86241)\n",
    "primeSet = set(p for p in primeGen)\n",
    "\n",
    "def primeLength(a,b):\n",
    "    for n in range(80):\n",
    "        if n**2+a*n+b not in primeSet:\n",
    "            return n\n",
    "    # What?! same length!\n",
    "    return 80"
   ]
  },
  {
   "cell_type": "code",
   "execution_count": 21,
   "metadata": {},
   "outputs": [],
   "source": [
    "def findMaxLen():\n",
    "    primeGen = genPrimes(1000)\n",
    "    \n",
    "    #burn off the ones less than 43.\n",
    "    p=2\n",
    "    while p < 43:\n",
    "        p = next(primeGen)\n",
    "        \n",
    "    maxlen = 0\n",
    "    maxa = 0\n",
    "    maxb = 0\n",
    "    # fewer than 95 primes for choices of b!\n",
    "    for b in primeGen:\n",
    "        for a in range(100,-999,-1):\n",
    "            l = primeLength(a,b)\n",
    "            if l > maxlen:\n",
    "                maxlen = l\n",
    "                maxa = a\n",
    "                maxb = b\n",
    "    return (maxlen,maxa,maxb)"
   ]
  },
  {
   "cell_type": "code",
   "execution_count": 22,
   "metadata": {},
   "outputs": [
    {
     "name": "stdout",
     "output_type": "stream",
     "text": [
      "Maximum length of 71 found when (a,b)=(-61,971).\n"
     ]
    }
   ],
   "source": [
    "print(\"Maximum length of %s found when (a,b)=(%s,%s).\" % findMaxLen())"
   ]
  },
  {
   "cell_type": "code",
   "execution_count": 24,
   "metadata": {},
   "outputs": [
    {
     "name": "stdout",
     "output_type": "stream",
     "text": [
      "160 ms ± 673 µs per loop (mean ± std. dev. of 7 runs, 10 loops each)\n"
     ]
    }
   ],
   "source": [
    "%timeit findMaxLen()"
   ]
  },
  {
   "cell_type": "markdown",
   "metadata": {},
   "source": [
    "## Takeaways\n"
   ]
  },
  {
   "cell_type": "markdown",
   "metadata": {},
   "source": [
    "Nothing too special here. The hardest part for me was reading the prompt correctly. :( "
   ]
  },
  {
   "cell_type": "code",
   "execution_count": null,
   "metadata": {},
   "outputs": [],
   "source": []
  }
 ],
 "metadata": {
  "kernelspec": {
   "display_name": "Python 3",
   "language": "python",
   "name": "python3"
  },
  "language_info": {
   "codemirror_mode": {
    "name": "ipython",
    "version": 3
   },
   "file_extension": ".py",
   "mimetype": "text/x-python",
   "name": "python",
   "nbconvert_exporter": "python",
   "pygments_lexer": "ipython3",
   "version": "3.6.7"
  }
 },
 "nbformat": 4,
 "nbformat_minor": 2
}
