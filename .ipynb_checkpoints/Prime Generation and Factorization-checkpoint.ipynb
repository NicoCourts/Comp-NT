{
 "cells": [
  {
   "cell_type": "markdown",
   "metadata": {},
   "source": [
    "# Experimentation with Prime Generation and Factorization"
   ]
  },
  {
   "cell_type": "markdown",
   "metadata": {},
   "source": [
    "## Prime Generation\n",
    "I will write out several prime generation algorithms so I can compare their efficiency.\n",
    "### Sieve of Eratosthenes\n",
    "I found this idea somewhere online a while ago. The idea is to do the sieve of Eratosthanes while keeping the list of composites as small as possible to save memory."
   ]
  },
  {
   "cell_type": "code",
   "execution_count": null,
   "metadata": {},
   "outputs": [],
   "source": [
    "from __future__ import print_function\n",
    "from sys import getsizeof, stderr\n",
    "from itertools import chain\n",
    "from collections import deque\n",
    "try:\n",
    "    from reprlib import repr\n",
    "except ImportError:\n",
    "    pass\n",
    "\n",
    "def total_size(o, handlers={}, verbose=False):\n",
    "    \"\"\" Returns the approximate memory footprint an object and all of its contents.\n",
    "\n",
    "    Automatically finds the contents of the following builtin containers and\n",
    "    their subclasses:  tuple, list, deque, dict, set and frozenset.\n",
    "    To search other containers, add handlers to iterate over their contents:\n",
    "\n",
    "        handlers = {SomeContainerClass: iter,\n",
    "                    OtherContainerClass: OtherContainerClass.get_elements}\n",
    "\n",
    "    \"\"\"\n",
    "    dict_handler = lambda d: chain.from_iterable(d.items())\n",
    "    all_handlers = {tuple: iter,\n",
    "                    list: iter,\n",
    "                    deque: iter,\n",
    "                    dict: dict_handler,\n",
    "                    set: iter,\n",
    "                    frozenset: iter,\n",
    "                   }\n",
    "    all_handlers.update(handlers)     # user handlers take precedence\n",
    "    seen = set()                      # track which object id's have already been seen\n",
    "    default_size = getsizeof(0)       # estimate sizeof object without __sizeof__\n",
    "\n",
    "    def sizeof(o):\n",
    "        if id(o) in seen:       # do not double count the same object\n",
    "            return 0\n",
    "        seen.add(id(o))\n",
    "        s = getsizeof(o, default_size)\n",
    "\n",
    "        if verbose:\n",
    "            print(s, type(o), repr(o), file=stderr)\n",
    "\n",
    "        for typ, handler in all_handlers.items():\n",
    "            if isinstance(o, typ):\n",
    "                s += sum(map(sizeof, handler(o)))\n",
    "                break\n",
    "        return s\n",
    "\n",
    "    return sizeof(o)\n",
    "\n",
    "\n",
    "##### Example call #####\n",
    "\n",
    "if __name__ == '__main__':\n",
    "    d = dict(a=1, b=2, c=3, d=[4,5,6,7], e='a string of chars')\n",
    "    print(total_size(d, verbose=True))"
   ]
  },
  {
   "cell_type": "code",
   "execution_count": 8,
   "metadata": {},
   "outputs": [],
   "source": [
    "import pickle\n",
    "\n",
    "def genPrimesErato(n):\n",
    "    \"\"\"\n",
    "    Yields all primes strictly less than n.\n",
    "    \n",
    "    Args:\n",
    "        n: (Strict) upper bound on the primes to generate\n",
    "    \"\"\"\n",
    "    composites = dict()\n",
    "    for i in range(2,n//2+1):\n",
    "        if i not in composites:\n",
    "            # Found a new prime\n",
    "            yield i\n",
    "            with open('temp','w') as f:\n",
    "                pickle.dump(composites, f)\n",
    "            \n",
    "            # The smallest (new) composite divisible by i will be i^2.\n",
    "            composites[i*i] = set([i])\n",
    "        else:\n",
    "            for j in composites[i]:\n",
    "                # Extend each arithmetic sequence that includes i by one term\n",
    "                nextMultiple = i + j\n",
    "                if nextMultiple not in composites:\n",
    "                    composites[nextMultiple] = set()\n",
    "                composites[nextMultiple].add(j)\n",
    "                \n",
    "            # Save memory by forgetting composites we've already seen\n",
    "            del composites[i]"
   ]
  },
  {
   "cell_type": "code",
   "execution_count": 9,
   "metadata": {},
   "outputs": [
    {
     "name": "stdout",
     "output_type": "stream",
     "text": [
      "5.494946718215942\n"
     ]
    }
   ],
   "source": [
    "%matplotlib notebook\n",
    "import matplotlib.pyplot as plt\n",
    "import time\n",
    "import math\n",
    "\n",
    "ys = []\n",
    "for i in range(7,8):\n",
    "    start = time.time()\n",
    "    primes = genPrimesErato(10**i)\n",
    "    list(primes)\n",
    "    print(time.time()-start)"
   ]
  },
  {
   "cell_type": "markdown",
   "metadata": {},
   "source": [
    "### Sieve of Atkin\n",
    "[See the wiki article](https://en.wikipedia.org/wiki/Sieve_of_Atkin). Supposed to be pretty fast. I am going to try to do my own implementation that can minimize memory space. Similar to the techniques above."
   ]
  },
  {
   "cell_type": "code",
   "execution_count": null,
   "metadata": {},
   "outputs": [],
   "source": [
    "# Generators for "
   ]
  },
  {
   "cell_type": "code",
   "execution_count": null,
   "metadata": {},
   "outputs": [],
   "source": [
    "def genPrimesAtkin(n):\n",
    "    \"\"\"\n",
    "    Yields all primes strictly less than n\n",
    "    \n",
    "    Args:\n",
    "        n: (Strict) upper bound on the primes to generate\n",
    "    \"\"\"\n",
    "    \n",
    "    isPrime = dict()\n",
    "    for wheel in range(n//60+2):\n",
    "        for rem in [1,7,11,13,17,19,23,29,31,37,41,43,47,49,53,59]:\n",
    "            candidate = 60 * wheel + rem\n",
    "            "
   ]
  }
 ],
 "metadata": {
  "kernelspec": {
   "display_name": "Python 3",
   "language": "python",
   "name": "python3"
  },
  "language_info": {
   "codemirror_mode": {
    "name": "ipython",
    "version": 3
   },
   "file_extension": ".py",
   "mimetype": "text/x-python",
   "name": "python",
   "nbconvert_exporter": "python",
   "pygments_lexer": "ipython3",
   "version": "3.6.4"
  }
 },
 "nbformat": 4,
 "nbformat_minor": 2
}
