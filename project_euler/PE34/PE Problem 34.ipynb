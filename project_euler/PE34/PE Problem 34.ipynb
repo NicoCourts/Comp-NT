{
 "cells": [
  {
   "cell_type": "markdown",
   "metadata": {},
   "source": [
    "# Project Euler problem 34\n",
    "145 is a curious number, as $1! + 4! + 5! = 1 + 24 + 120 = 145$.\n",
    "\n",
    "Find the sum of all numbers which are equal to the sum of the factorial of their digits.\n",
    "\n",
    "Note: as $1! = 1$ and $2! = 2$ are not sums they are not included."
   ]
  },
  {
   "cell_type": "markdown",
   "metadata": {},
   "source": [
    "---\n",
    "## Ideas\n",
    "- The problem is (again) to find the proper bounds to search.\n",
    "- If $k$ is the number of digits in $n$, we can make a rough upper bound $n$ such that\n",
    "$$k\\cdot 9!\\ge 10^k$$\n",
    " since the left hand side is the biggest possible sum $\\sum a_i!$ and the right hand side is the smallest possible\n",
    " sum $\\sum a_i 10^i$."
   ]
  },
  {
   "cell_type": "code",
   "execution_count": 5,
   "metadata": {},
   "outputs": [
    {
     "name": "stdout",
     "output_type": "stream",
     "text": [
      "362880>=10\n",
      "725760>=100\n",
      "1088640>=1000\n",
      "1451520>=10000\n",
      "1814400>=100000\n",
      "2177280>=1000000\n",
      "2540160<10000000\n",
      "7\n"
     ]
    }
   ],
   "source": [
    "# testing\n",
    "import math\n",
    "k=1\n",
    "while k*math.factorial(9) >= 10**k:\n",
    "    print(f\"{k*math.factorial(9)}>={10**k}\")\n",
    "    k += 1\n",
    "print(f\"{k*math.factorial(9)}<{10**k}\")\n",
    "print(k)"
   ]
  },
  {
   "cell_type": "markdown",
   "metadata": {},
   "source": [
    "So we only need to consider numbers up to (but not including) $10^7$."
   ]
  },
  {
   "cell_type": "code",
   "execution_count": 14,
   "metadata": {},
   "outputs": [],
   "source": [
    "def f():\n",
    "    total = 0\n",
    "    for n in range(10,10**7):\n",
    "        if n == computePerm(n):\n",
    "            print(n)\n",
    "            total += n\n",
    "    return total"
   ]
  },
  {
   "cell_type": "code",
   "execution_count": 20,
   "metadata": {},
   "outputs": [],
   "source": [
    "def computePerm(n):\n",
    "    total = 0\n",
    "    while n >= 10:\n",
    "        res = n % 10\n",
    "        total += math.factorial(res)\n",
    "        n = (n-res)/10\n",
    "    return total+math.factorial(n)"
   ]
  },
  {
   "cell_type": "code",
   "execution_count": 22,
   "metadata": {},
   "outputs": [
    {
     "name": "stdout",
     "output_type": "stream",
     "text": [
      "145\n",
      "40585\n",
      "The sum is 40730\n"
     ]
    }
   ],
   "source": [
    "print(f\"The sum is {f()}\")"
   ]
  },
  {
   "cell_type": "markdown",
   "metadata": {},
   "source": [
    "## Takeaways\n"
   ]
  },
  {
   "cell_type": "code",
   "execution_count": null,
   "metadata": {},
   "outputs": [],
   "source": []
  }
 ],
 "metadata": {
  "kernelspec": {
   "display_name": "Python 3",
   "language": "python",
   "name": "python3"
  },
  "language_info": {
   "codemirror_mode": {
    "name": "ipython",
    "version": 3
   },
   "file_extension": ".py",
   "mimetype": "text/x-python",
   "name": "python",
   "nbconvert_exporter": "python",
   "pygments_lexer": "ipython3",
   "version": "3.6.4"
  }
 },
 "nbformat": 4,
 "nbformat_minor": 2
}
