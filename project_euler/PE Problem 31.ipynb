{
 "cells": [
  {
   "cell_type": "markdown",
   "metadata": {},
   "source": [
    "# Project Euler problem 31\n",
    "In England the currency is made up of pound, £, and pence, p, and there are eight coins in general circulation:\n",
    "\n",
    "1p, 2p, 5p, 10p, 20p, 50p, £1 (100p) and £2 (200p).\n",
    "It is possible to make £2 in the following way:\n",
    "\n",
    "1×£1 + 1×50p + 2×20p + 1×5p + 1×2p + 3×1p\n",
    "How many different ways can £2 be made using any number of coins?"
   ]
  },
  {
   "cell_type": "markdown",
   "metadata": {},
   "source": [
    "---\n",
    "## Ideas\n",
    "- Let's just do it brute force\n",
    "- Well, that's a bit of a lie: actually there is a bit of careful memory management going on because it only remembers the current sums in a single array."
   ]
  },
  {
   "cell_type": "code",
   "execution_count": 43,
   "metadata": {},
   "outputs": [
    {
     "name": "stdout",
     "output_type": "stream",
     "text": [
      "73682\n",
      "2.17 s ± 16.3 ms per loop (mean ± std. dev. of 7 runs, 1 loop each)\n"
     ]
    }
   ],
   "source": [
    "def g(total):\n",
    "    denominations = [2,5,10,20,50,100,200]\n",
    "    collection = [x for x in range(total+1)]\n",
    "    \n",
    "    for amt in denominations:\n",
    "        new = []\n",
    "        for c in collection:\n",
    "            n=0\n",
    "            while c+n*amt <= total:\n",
    "                new.append(c+n*amt)\n",
    "                n += 1\n",
    "\n",
    "        collection = new\n",
    "\n",
    "    return collection.count(total)\n",
    "\n",
    "print(g(200))\n",
    "%timeit g(200)"
   ]
  },
  {
   "cell_type": "markdown",
   "metadata": {},
   "source": [
    "## Divide and conquer method\n",
    "Man, this one runs much faster and is a bit simpler to read"
   ]
  },
  {
   "cell_type": "code",
   "execution_count": 44,
   "metadata": {},
   "outputs": [
    {
     "name": "stdout",
     "output_type": "stream",
     "text": [
      "59 ms ± 2.84 ms per loop (mean ± std. dev. of 7 runs, 10 loops each)\n"
     ]
    }
   ],
   "source": [
    "denominations = [2,5,10,20,50,100,200]\n",
    "# Compute the number of ways to get n pounds using coins of value up to k\n",
    "def f(n,k):\n",
    "    if k < 2:\n",
    "        return 1\n",
    "    \n",
    "    amts = [x for x in denominations if x <= k]\n",
    "    k = amts[-1]\n",
    "    \n",
    "    if n>=k:\n",
    "        return f(n-k, k) + f(n,k-1)\n",
    "    else:\n",
    "        return f(n,k-1)\n",
    "\n",
    "f(200,200)\n",
    "%timeit f(200,200)"
   ]
  },
  {
   "cell_type": "markdown",
   "metadata": {},
   "source": [
    "## Takeaways\n"
   ]
  },
  {
   "cell_type": "markdown",
   "metadata": {},
   "source": [
    "Always divide and conquer. Except when you shouldn't"
   ]
  },
  {
   "cell_type": "code",
   "execution_count": null,
   "metadata": {},
   "outputs": [],
   "source": []
  }
 ],
 "metadata": {
  "kernelspec": {
   "display_name": "Python 3",
   "language": "python",
   "name": "python3"
  },
  "language_info": {
   "codemirror_mode": {
    "name": "ipython",
    "version": 3
   },
   "file_extension": ".py",
   "mimetype": "text/x-python",
   "name": "python",
   "nbconvert_exporter": "python",
   "pygments_lexer": "ipython3",
   "version": "3.6.7"
  }
 },
 "nbformat": 4,
 "nbformat_minor": 2
}
