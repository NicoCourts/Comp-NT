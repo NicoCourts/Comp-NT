{
 "cells": [
  {
   "cell_type": "markdown",
   "metadata": {},
   "source": [
    "# Affine vs Projective coordinates benchmark\n",
    "I stumbled upon an article online about eliminating division in your computations (which we can do in $\\mathbb{P}^2$ by allowing z to balloon). After re-deriving the formulas for it I wanted to see what the actual speed comparison was.\n",
    "\n",
    "So far (looks like there are still bugs to squash) it looks like it's much faster to just divide and do the usual computations in $\\mathbb{A}^2$."
   ]
  },
  {
   "cell_type": "markdown",
   "metadata": {},
   "source": [
    "---\n",
    "First I did some tests to see how much slower division was than multiplication:"
   ]
  },
  {
   "cell_type": "code",
   "execution_count": 27,
   "metadata": {},
   "outputs": [
    {
     "name": "stdout",
     "output_type": "stream",
     "text": [
      "11.3 ns ± 0.164 ns per loop (mean ± std. dev. of 7 runs, 100000000 loops each)\n"
     ]
    }
   ],
   "source": [
    "%timeit 3429785342985/2343243245532"
   ]
  },
  {
   "cell_type": "code",
   "execution_count": 28,
   "metadata": {},
   "outputs": [
    {
     "name": "stdout",
     "output_type": "stream",
     "text": [
      "11.3 ns ± 0.233 ns per loop (mean ± std. dev. of 7 runs, 100000000 loops each)\n"
     ]
    }
   ],
   "source": [
    "%timeit 3429785342985*2343243245532"
   ]
  },
  {
   "cell_type": "code",
   "execution_count": 37,
   "metadata": {},
   "outputs": [
    {
     "name": "stdout",
     "output_type": "stream",
     "text": [
      "exponent\t mult/div ratio\n",
      "5\t\t2.0073077219977873\n",
      "6\t\t1.7327504608180142\n",
      "7\t\t1.1855462096795326\n",
      "8\t\t1.1088497231954213\n",
      "9\t\t1.0639706989112439\n",
      "10\t\t1.0605976687394578\n",
      "11\t\t1.0211238267944225\n",
      "12\t\t1.0939253793390147\n",
      "13\t\t1.105144088338271\n",
      "14\t\t1.1858163826278174\n",
      "15\t\t1.1944904772197804\n",
      "16\t\t1.2272738365424507\n",
      "17\t\t1.122423408160384\n",
      "18\t\t1.2324040384569046\n",
      "19\t\t1.2565591185335243\n",
      "20\t\t1.0980558874896589\n",
      "21\t\t0.43517475633441827\n",
      "22\t\t0.45015853233876435\n",
      "23\t\t0.4637305248498564\n",
      "24\t\t0.3905761199838345\n",
      "25\t\t0.5279619486883829\n",
      "26\t\t0.4987221315932572\n",
      "27\t\t0.459920790355573\n",
      "28\t\t0.4845837887388499\n",
      "29\t\t0.4556765028834266\n",
      "30\t\t0.39893948191312983\n",
      "Average: \t0.9331416732508914\n"
     ]
    }
   ],
   "source": [
    "import random\n",
    "import time\n",
    "\n",
    "ITERS = 100000\n",
    "ROUNDS = 26\n",
    "\n",
    "print(\"exponent\\t mult/div ratio\")\n",
    "\n",
    "total = 0\n",
    "for i in range(ROUNDS):\n",
    "    e = i+5\n",
    "    x = random.randint(10**i,10**(i+1))\n",
    "    y = random.randint(10**i,10**(i+1))\n",
    "    \n",
    "    start = time.time()\n",
    "    for _ in range(ITERS):\n",
    "        z = x * y\n",
    "    m = time.time()-start\n",
    "    \n",
    "    start = time.time()\n",
    "    for _ in range(ITERS):\n",
    "        z = x/y\n",
    "    d = time.time()-start\n",
    "    \n",
    "    total += m/d\n",
    "    print(\"%s\\t\\t%s\" % (e,m/d))\n",
    "    \n",
    "print(\"Average: \\t%s\" % (total/ROUNDS))"
   ]
  },
  {
   "cell_type": "code",
   "execution_count": 3,
   "metadata": {},
   "outputs": [],
   "source": [
    "def f(x,y,z):\n",
    "    s = 3*x**2 + 14*z**2\n",
    "    newZ = 8*(y**3)*(z**4)\n",
    "    t = x*z*(y**2)\n",
    "    newX = 2*y*z*( s**2 - 8*t )\n",
    "    \n",
    "    newY = s**3 - 12*s*t + y*t\n",
    "    return (newX/newZ, newY/newZ, 1)"
   ]
  },
  {
   "cell_type": "code",
   "execution_count": 9,
   "metadata": {},
   "outputs": [],
   "source": [
    "def g(x,y,z):\n",
    "    x = x/z\n",
    "    y = y/z\n",
    "    s = (3*x**2+14)/(2*y)\n",
    "    newX = s**2-2*x\n",
    "    newY = s*(newX - x)+y\n",
    "    newZ = 1\n",
    "    return (newX, newY, newZ)"
   ]
  },
  {
   "cell_type": "code",
   "execution_count": 5,
   "metadata": {},
   "outputs": [],
   "source": [
    "(x,y,z) = (15,232311,2342)"
   ]
  },
  {
   "cell_type": "code",
   "execution_count": 6,
   "metadata": {},
   "outputs": [
    {
     "name": "stdout",
     "output_type": "stream",
     "text": [
      "2.93 µs ± 76.3 ns per loop (mean ± std. dev. of 7 runs, 100000 loops each)\n"
     ]
    }
   ],
   "source": [
    "%timeit f(x,y,z)"
   ]
  },
  {
   "cell_type": "code",
   "execution_count": 10,
   "metadata": {},
   "outputs": [
    {
     "name": "stdout",
     "output_type": "stream",
     "text": [
      "549 ns ± 3.69 ns per loop (mean ± std. dev. of 7 runs, 1000000 loops each)\n"
     ]
    }
   ],
   "source": [
    "%timeit g(x,y,z)"
   ]
  },
  {
   "cell_type": "code",
   "execution_count": 11,
   "metadata": {},
   "outputs": [
    {
     "name": "stdout",
     "output_type": "stream",
     "text": [
      "(-3.3430682314207614e-06, -4.2876447291432337e-07, 1)\n",
      "(-0.007829465797987425, 99.1924199153304, 1)\n"
     ]
    }
   ],
   "source": [
    "print(f(x,y,z))\n",
    "print(g(x,y,z))"
   ]
  },
  {
   "cell_type": "markdown",
   "metadata": {},
   "source": [
    "Uh oh. Made a mistake in my computations."
   ]
  },
  {
   "cell_type": "code",
   "execution_count": 30,
   "metadata": {},
   "outputs": [
    {
     "data": {
      "text/plain": [
       "69.7604899926346"
      ]
     },
     "execution_count": 30,
     "metadata": {},
     "output_type": "execute_result"
    }
   ],
   "source": [
    "import math\n",
    "math.log(10**21)/math.log(2)"
   ]
  },
  {
   "cell_type": "code",
   "execution_count": null,
   "metadata": {},
   "outputs": [],
   "source": []
  }
 ],
 "metadata": {
  "kernelspec": {
   "display_name": "Python 3",
   "language": "python",
   "name": "python3"
  },
  "language_info": {
   "codemirror_mode": {
    "name": "ipython",
    "version": 3
   },
   "file_extension": ".py",
   "mimetype": "text/x-python",
   "name": "python",
   "nbconvert_exporter": "python",
   "pygments_lexer": "ipython3",
   "version": "3.6.4"
  }
 },
 "nbformat": 4,
 "nbformat_minor": 2
}
